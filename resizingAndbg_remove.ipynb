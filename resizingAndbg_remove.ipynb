{
 "cells": [
  {
   "cell_type": "code",
   "execution_count": 3,
   "id": "4ccd73e5-ad17-43f6-ad69-b232797122fe",
   "metadata": {},
   "outputs": [
    {
     "name": "stderr",
     "output_type": "stream",
     "text": [
      "<>:4: SyntaxWarning: invalid escape sequence '\\S'\n",
      "<>:5: SyntaxWarning: invalid escape sequence '\\S'\n",
      "<>:4: SyntaxWarning: invalid escape sequence '\\S'\n",
      "<>:5: SyntaxWarning: invalid escape sequence '\\S'\n",
      "C:\\Users\\Dell\\AppData\\Local\\Temp\\ipykernel_1696\\700653395.py:4: SyntaxWarning: invalid escape sequence '\\S'\n",
      "  input_folder = 'D:\\Shirish Datasets\\Tomato by us\\halfripe'\n",
      "C:\\Users\\Dell\\AppData\\Local\\Temp\\ipykernel_1696\\700653395.py:5: SyntaxWarning: invalid escape sequence '\\S'\n",
      "  output_folder = 'D:\\Shirish Datasets\\Tomato by us\\halfripe_new'\n"
     ]
    },
    {
     "name": "stdout",
     "output_type": "stream",
     "text": [
      "Resized and saved: D:\\Shirish Datasets\\Tomato by us\\halfripe_new\\.\\IMG_4311.png\n",
      "Resized and saved: D:\\Shirish Datasets\\Tomato by us\\halfripe_new\\.\\IMG_4312.png\n",
      "Resized and saved: D:\\Shirish Datasets\\Tomato by us\\halfripe_new\\.\\IMG_4320.png\n",
      "Resized and saved: D:\\Shirish Datasets\\Tomato by us\\halfripe_new\\.\\IMG_4355.png\n",
      "Resized and saved: D:\\Shirish Datasets\\Tomato by us\\halfripe_new\\.\\IMG_4356.png\n",
      "Resized and saved: D:\\Shirish Datasets\\Tomato by us\\halfripe_new\\.\\IMG_4357.png\n",
      "Resized and saved: D:\\Shirish Datasets\\Tomato by us\\halfripe_new\\.\\IMG_4358.png\n",
      "Resized and saved: D:\\Shirish Datasets\\Tomato by us\\halfripe_new\\.\\IMG_4361.png\n",
      "Resized and saved: D:\\Shirish Datasets\\Tomato by us\\halfripe_new\\.\\IMG_4362.png\n",
      "Resized and saved: D:\\Shirish Datasets\\Tomato by us\\halfripe_new\\.\\IMG_4363.png\n",
      "Resized and saved: D:\\Shirish Datasets\\Tomato by us\\halfripe_new\\.\\IMG_4364.png\n",
      "Resized and saved: D:\\Shirish Datasets\\Tomato by us\\halfripe_new\\.\\IMG_4369.png\n",
      "Resized and saved: D:\\Shirish Datasets\\Tomato by us\\halfripe_new\\.\\IMG_4370.png\n",
      "Resized and saved: D:\\Shirish Datasets\\Tomato by us\\halfripe_new\\.\\IMG_4371.png\n",
      "Resized and saved: D:\\Shirish Datasets\\Tomato by us\\halfripe_new\\.\\IMG_4372.png\n",
      "Resized and saved: D:\\Shirish Datasets\\Tomato by us\\halfripe_new\\.\\IMG_4373.png\n",
      "Resized and saved: D:\\Shirish Datasets\\Tomato by us\\halfripe_new\\.\\IMG_4374.png\n",
      "Resized and saved: D:\\Shirish Datasets\\Tomato by us\\halfripe_new\\.\\IMG_4375.png\n",
      "Resized and saved: D:\\Shirish Datasets\\Tomato by us\\halfripe_new\\.\\IMG_4376.png\n",
      "Resized and saved: D:\\Shirish Datasets\\Tomato by us\\halfripe_new\\.\\IMG_4377.png\n",
      "Resized and saved: D:\\Shirish Datasets\\Tomato by us\\halfripe_new\\.\\IMG_4378.png\n",
      "Resized and saved: D:\\Shirish Datasets\\Tomato by us\\halfripe_new\\.\\IMG_4379.png\n",
      "Resized and saved: D:\\Shirish Datasets\\Tomato by us\\halfripe_new\\.\\IMG_4380.png\n",
      "Resized and saved: D:\\Shirish Datasets\\Tomato by us\\halfripe_new\\.\\IMG_4381.png\n",
      "Resized and saved: D:\\Shirish Datasets\\Tomato by us\\halfripe_new\\.\\IMG_4382.png\n",
      "Resized and saved: D:\\Shirish Datasets\\Tomato by us\\halfripe_new\\.\\IMG_4383.png\n",
      "Resized and saved: D:\\Shirish Datasets\\Tomato by us\\halfripe_new\\.\\IMG_4384.png\n",
      "Resized and saved: D:\\Shirish Datasets\\Tomato by us\\halfripe_new\\.\\IMG_4395.png\n",
      "Resized and saved: D:\\Shirish Datasets\\Tomato by us\\halfripe_new\\.\\IMG_4396.png\n",
      "Resized and saved: D:\\Shirish Datasets\\Tomato by us\\halfripe_new\\.\\IMG_4397.png\n",
      "Resized and saved: D:\\Shirish Datasets\\Tomato by us\\halfripe_new\\.\\IMG_4398.png\n",
      "Resized and saved: D:\\Shirish Datasets\\Tomato by us\\halfripe_new\\.\\IMG_4400.png\n",
      "Resized and saved: D:\\Shirish Datasets\\Tomato by us\\halfripe_new\\.\\IMG_4401.png\n",
      "\n",
      "Total images resized: 33\n",
      "Resized images saved in: D:\\Shirish Datasets\\Tomato by us\\halfripe_new\n"
     ]
    }
   ],
   "source": [
    "from PIL import Image\n",
    "import os\n",
    "\n",
    "input_folder = 'D:\\Shirish Datasets\\Tomato by us\\halfripe'\n",
    "output_folder = 'D:\\Shirish Datasets\\Tomato by us\\halfripe_new'\n",
    "\n",
    "count = 0\n",
    "\n",
    "for root, dirs, files in os.walk(input_folder):\n",
    "    relative_path = os.path.relpath(root, input_folder)\n",
    "    output_subfolder = os.path.join(output_folder, relative_path)\n",
    "    os.makedirs(output_subfolder, exist_ok=True)\n",
    "    \n",
    "    for file in files:\n",
    "        if file.lower().endswith(('.png', '.jpg', '.jpeg')):\n",
    "            img_path = os.path.join(root, file)\n",
    "            img = Image.open(img_path)\n",
    "            img_resized = img.resize((256, 256), Image.Resampling.LANCZOS)\n",
    "            save_path = os.path.join(output_subfolder, file)\n",
    "            img_resized.save(save_path)\n",
    "            count += 1\n",
    "            print(f\"Resized and saved: {save_path}\")\n",
    "\n",
    "print(f\"\\nTotal images resized: {count}\")\n",
    "print(f\"Resized images saved in: {output_folder}\")"
   ]
  },
  {
   "cell_type": "code",
   "execution_count": null,
   "id": "ee39913e-4b72-4d65-a482-a5b2e3074a34",
   "metadata": {},
   "outputs": [],
   "source": []
  }
 ],
 "metadata": {
  "kernelspec": {
   "display_name": "Python 3 (ipykernel)",
   "language": "python",
   "name": "python3"
  },
  "language_info": {
   "codemirror_mode": {
    "name": "ipython",
    "version": 3
   },
   "file_extension": ".py",
   "mimetype": "text/x-python",
   "name": "python",
   "nbconvert_exporter": "python",
   "pygments_lexer": "ipython3",
   "version": "3.12.7"
  }
 },
 "nbformat": 4,
 "nbformat_minor": 5
}
